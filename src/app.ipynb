{
 "cells": [
  {
   "cell_type": "markdown",
   "id": "ba9ba1e7",
   "metadata": {},
   "source": [
    "# RAG Orchestration"
   ]
  },
  {
   "cell_type": "markdown",
   "id": "ffd43ad2",
   "metadata": {},
   "source": [
    "## retrieve"
   ]
  },
  {
   "cell_type": "markdown",
   "id": "c8eadc9f",
   "metadata": {},
   "source": [
    "## augment"
   ]
  },
  {
   "cell_type": "markdown",
   "id": "f689555a",
   "metadata": {},
   "source": [
    "## generate  \n",
    "1. get ollama client\n",
    "2. generate response"
   ]
  },
  {
   "cell_type": "code",
   "execution_count": null,
   "id": "eccf69a5",
   "metadata": {},
   "outputs": [],
   "source": [
    "from abc import ABC, abstractmethod\n",
    "from ollama import Client\n",
    "\n",
    "\n",
    "class ResponseGenerator(ABC):\n",
    "    def __init__(self, model: str):\n",
    "        self.model = model\n",
    "\n",
    "    @abstractmethod\n",
    "    def generate_response(self, prompt: str) -> str:\n",
    "        pass\n",
    "\n",
    "\n",
    "class OllamaResponseGenerator(ResponseGenerator):\n",
    "    def __init__(self, host_url: str = \"http://localhost:11434\", model: str = \"phi3\"):\n",
    "        super().__init__(model)\n",
    "        self.host_url = host_url\n",
    "        self.client = Client(host=self.host_url)\n",
    "\n",
    "    def generate_response(self, prompt: str) -> str:\n",
    "        try:\n",
    "            response = self.client.chat(\n",
    "                model=self.model,\n",
    "                messages=[\n",
    "                    {\n",
    "                        \"role\": \"user\",\n",
    "                        \"content\": prompt,\n",
    "                    },\n",
    "                ],\n",
    "            )\n",
    "            return response[\"message\"][\"content\"]\n",
    "        except Exception as e:\n",
    "            print(f\"Error generating Ollama response: {e}\")\n",
    "            return \"No response from Ollama client\"\n",
    "\n",
    "\n",
    "def get_ollama_client(\n",
    "    host_url: str = \"http://localhost:11434\", model: str = \"phi3\"\n",
    ") -> OllamaResponseGenerator:\n",
    "    return OllamaResponseGenerator(host_url=host_url, model=model)"
   ]
  },
  {
   "cell_type": "code",
   "execution_count": null,
   "id": "54fb6217",
   "metadata": {},
   "outputs": [],
   "source": [
    "model_name = \"deepseek-r1:14b\"\n",
    "host_url = \"http://localhost:11434\"\n",
    "llm = get_ollama_client(host_url=host_url, model=model_name)\n",
    "llm"
   ]
  },
  {
   "cell_type": "code",
   "execution_count": null,
   "id": "3e58dd1c",
   "metadata": {},
   "outputs": [],
   "source": [
    "llm.generate_response(\"What is the capital of France?\")"
   ]
  },
  {
   "cell_type": "code",
   "execution_count": null,
   "id": "c90b3d9c",
   "metadata": {},
   "outputs": [],
   "source": []
  }
 ],
 "metadata": {
  "kernelspec": {
   "display_name": "etl-env",
   "language": "python",
   "name": "python3"
  },
  "language_info": {
   "codemirror_mode": {
    "name": "ipython",
    "version": 3
   },
   "file_extension": ".py",
   "mimetype": "text/x-python",
   "name": "python",
   "nbconvert_exporter": "python",
   "pygments_lexer": "ipython3",
   "version": "3.13.2"
  }
 },
 "nbformat": 4,
 "nbformat_minor": 5
}
