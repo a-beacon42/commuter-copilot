{
 "cells": [
  {
   "cell_type": "markdown",
   "metadata": {},
   "source": [
    "# ETL Development\n",
    "### phase 0\n",
    "| Task                                  | Status      | Comments  |\n",
    "|---------------------------------------|-------------|-----------|\n",
    "| Manually clone Azure repo             | Complete    | None      |\n",
    "| Crawl through repo & get all md files | Done        | None      |\n",
    "| Prepare md for indexing               | In progress | None      |"
   ]
  },
  {
   "cell_type": "code",
   "execution_count": null,
   "metadata": {},
   "outputs": [],
   "source": [
    "# Set global vars\n",
    "import os\n",
    "\n",
    "PROJECT_ROOT = \"/Users/alex/Desktop/code_projects/commuter-copilot/\"\n",
    "RAW_DATA_SOURCE_PATH = os.path.join(PROJECT_ROOT, \"local_files\", \"data\", \"raw\")\n",
    "STAGED_DATA_SOURCE_PATH = os.path.join(PROJECT_ROOT, \"local_files\", \"data\", \"staging\")\n",
    "\n",
    "# Ensure the directories exist\n",
    "os.makedirs(RAW_DATA_SOURCE_PATH, exist_ok=True)\n",
    "os.makedirs(STAGED_DATA_SOURCE_PATH, exist_ok=True)"
   ]
  },
  {
   "cell_type": "code",
   "execution_count": null,
   "metadata": {},
   "outputs": [],
   "source": [
    "\"\"\"\n",
    "manually update & clone azure repo to local_files/\n",
    "in terminal:\n",
    "    >\n",
    "    > cd /Users/alex/Desktop/code_projects/commuter-copilot/local_files/data/raw\n",
    "    > git clone git@github.com:commuter-copilot/azure-docs.git\n",
    "\"\"\"\n",
    "\n",
    "raw_docs_dir = \"../../local_files/data/raw/\""
   ]
  }
 ],
 "metadata": {
  "language_info": {
   "name": "python"
  }
 },
 "nbformat": 4,
 "nbformat_minor": 2
}
