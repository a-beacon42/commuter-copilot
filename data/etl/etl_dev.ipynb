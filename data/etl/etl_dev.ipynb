{
 "cells": [
  {
   "cell_type": "markdown",
   "metadata": {},
   "source": [
    "# ETL Development\n",
    "### phase 0\n",
    "| Task                                  | Status      | Comments  |\n",
    "|---------------------------------------|-------------|-----------|\n",
    "| Manually clone Azure repo             | Complete    | use shallow clone <br>* still receiving 600k+ objects (3.57GiB) <br>* full clone was 7.9 million      |\n",
    "| Crawl through repo & get all md files | In Progress | None      |\n",
    "| Prepare md for indexing               | In progress | None      |"
   ]
  },
  {
   "cell_type": "code",
   "execution_count": null,
   "metadata": {},
   "outputs": [],
   "source": [
    "# Set global vars\n",
    "import os\n",
    "\n",
    "PROJECT_ROOT = \"/Users/alex/Desktop/code_projects/commuter-copilot/\"\n",
    "RAW_DATA_SOURCE_PATH = os.path.join(\n",
    "    PROJECT_ROOT, \"local_files\", \"data\", \"raw\", \"azure-docs\"\n",
    ")\n",
    "STAGED_DATA_SOURCE_PATH = os.path.join(\n",
    "    PROJECT_ROOT, \"local_files\", \"data\", \"staging\", \"azure-docs-staging\"\n",
    ")\n",
    "\n",
    "# Ensure the directories exist\n",
    "os.makedirs(RAW_DATA_SOURCE_PATH, exist_ok=True)\n",
    "os.makedirs(STAGED_DATA_SOURCE_PATH, exist_ok=True)"
   ]
  },
  {
   "cell_type": "code",
   "execution_count": null,
   "metadata": {},
   "outputs": [],
   "source": [
    "# manually update & clone azure repo to local_files/ in terminal:\n",
    "!bash -c \"$PROJECT_ROOT/data/etl/run_etl_azure_docs_raw.sh\""
   ]
  }
 ],
 "metadata": {
  "language_info": {
   "name": "python"
  }
 },
 "nbformat": 4,
 "nbformat_minor": 2
}
